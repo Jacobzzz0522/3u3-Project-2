{
 "cells": [
  {
   "cell_type": "markdown",
   "id": "43e832ca-34b1-423a-818b-bfe1594d2f1b",
   "metadata": {},
   "source": [
    "# CSS 206 Mini-Project Data Preprocess + Model demos"
   ]
  },
  {
   "cell_type": "markdown",
   "id": "3f39eb8e-140e-48c3-a20d-1aed00a94dc6",
   "metadata": {},
   "source": [
    "## Load data files"
   ]
  },
  {
   "cell_type": "markdown",
   "id": "7e4a560c-086a-488e-9076-2ea34b51d341",
   "metadata": {},
   "source": [
    "Assume we have already downloaded csv files in a local folder named \"data\"."
   ]
  },
  {
   "cell_type": "code",
   "execution_count": 1,
   "id": "c87abfad-8c40-449b-bda4-2b0d59d3fce9",
   "metadata": {},
   "outputs": [],
   "source": [
    "import pandas as pd\n",
    "import numpy as np\n",
    "import requests"
   ]
  },
  {
   "cell_type": "code",
   "execution_count": 2,
   "id": "aa799a94-33d6-4f2f-a749-0bfe92f6081e",
   "metadata": {},
   "outputs": [
    {
     "name": "stderr",
     "output_type": "stream",
     "text": [
      "C:\\Users\\Prayer\\AppData\\Local\\Temp\\ipykernel_44156\\3316075403.py:2: DtypeWarning: Columns (10) have mixed types. Specify dtype option on import or set low_memory=False.\n",
      "  df_movies = pd.read_csv(\"./data/movies_metadata.csv\")\n",
      "C:\\Users\\Prayer\\AppData\\Local\\Temp\\ipykernel_44156\\3316075403.py:9: FutureWarning: Passing literal json to 'read_json' is deprecated and will be removed in a future version. To read from a literal string, wrap it in a 'StringIO' object.\n",
      "  df_scores = pd.read_json(response.text)\n"
     ]
    }
   ],
   "source": [
    "# Load local csv files\n",
    "df_movies = pd.read_csv(\"./data/movies_metadata.csv\")\n",
    "df_keywords = pd.read_csv(\"./data/keywords.csv\")\n",
    "df_ratings = pd.read_csv(\"./data/ratings.csv\")\n",
    "\n",
    "# Download bechdel test score data\n",
    "address = \"http://bechdeltest.com/api/v1/getAllMovies\"\n",
    "response = requests.get(address)\n",
    "df_scores = pd.read_json(response.text)"
   ]
  },
  {
   "cell_type": "markdown",
   "id": "de94fc9e-6ba8-4678-bd2b-38247e1398f3",
   "metadata": {},
   "source": [
    "## Combine dataframes"
   ]
  },
  {
   "cell_type": "markdown",
   "id": "85bc2668-3f8d-4ec2-b509-c7772faf0f67",
   "metadata": {},
   "source": [
    "**Let's have a look at dataframes and process id and imdb_id column**"
   ]
  },
  {
   "cell_type": "code",
   "execution_count": 3,
   "id": "ade5acf4-b423-458f-b900-70d22d8f2ebb",
   "metadata": {},
   "outputs": [
    {
     "name": "stdout",
     "output_type": "stream",
     "text": [
      "adult                     object\n",
      "belongs_to_collection     object\n",
      "budget                    object\n",
      "genres                    object\n",
      "homepage                  object\n",
      "id                        object\n",
      "imdb_id                   object\n",
      "original_language         object\n",
      "original_title            object\n",
      "overview                  object\n",
      "popularity                object\n",
      "poster_path               object\n",
      "production_companies      object\n",
      "production_countries      object\n",
      "release_date              object\n",
      "revenue                  float64\n",
      "runtime                  float64\n",
      "spoken_languages          object\n",
      "status                    object\n",
      "tagline                   object\n",
      "title                     object\n",
      "video                     object\n",
      "vote_average             float64\n",
      "vote_count               float64\n",
      "dtype: object\n",
      "(45466, 24)\n"
     ]
    }
   ],
   "source": [
    "# movies dataframe\n",
    "print(df_movies.dtypes)\n",
    "print(df_movies.shape)"
   ]
  },
  {
   "cell_type": "code",
   "execution_count": 4,
   "id": "1b31003b-ec60-4613-8a8e-536f2cf5bfcf",
   "metadata": {},
   "outputs": [
    {
     "name": "stdout",
     "output_type": "stream",
     "text": [
      "id           int64\n",
      "keywords    object\n",
      "dtype: object\n",
      "(46419, 2)\n"
     ]
    }
   ],
   "source": [
    "# keywords dataframe\n",
    "print(df_keywords.dtypes)\n",
    "print(df_keywords.shape)"
   ]
  },
  {
   "cell_type": "code",
   "execution_count": 5,
   "id": "5fb57338-429b-4e31-a883-b0c617702fe1",
   "metadata": {},
   "outputs": [
    {
     "name": "stdout",
     "output_type": "stream",
     "text": [
      "userId         int64\n",
      "movieId        int64\n",
      "rating       float64\n",
      "timestamp      int64\n",
      "dtype: object\n",
      "(26024289, 4)\n"
     ]
    }
   ],
   "source": [
    "# rating dataframe\n",
    "print(df_ratings.dtypes)\n",
    "print(df_ratings.shape)"
   ]
  },
  {
   "cell_type": "code",
   "execution_count": 6,
   "id": "102f81cb-06e4-438a-98bb-d30bef430ddf",
   "metadata": {},
   "outputs": [
    {
     "name": "stdout",
     "output_type": "stream",
     "text": [
      "imdbid    object\n",
      "id         int64\n",
      "year       int64\n",
      "title     object\n",
      "rating     int64\n",
      "dtype: object\n",
      "(10493, 5)\n"
     ]
    }
   ],
   "source": [
    "# scores dataframe\n",
    "print(df_scores.dtypes)\n",
    "print(df_scores.shape)"
   ]
  },
  {
   "cell_type": "code",
   "execution_count": 7,
   "id": "347cb740-61a0-4f96-b966-98057cc94c25",
   "metadata": {},
   "outputs": [],
   "source": [
    "# Preprocess \"id\" and \"imdb_id\" columns in df_movies\n",
    "\n",
    "# \"id\" in df_movies is str, \"id\" in df_ratings and df_keywords is int64\n",
    "df_movies[\"id\"] = pd.to_numeric(df_movies[\"id\"], errors=\"coerce\")\n",
    "df_movies.dropna(subset=[\"id\"], inplace=True)\n",
    "df_movies[\"id\"] = df_movies[\"id\"].astype(\"int64\")\n",
    "\n",
    "# imdbid in df_movies and df_scores both are str\n",
    "# imdbid in df_movies has additonal \"tt\" prefix, so we remove it\n",
    "df_movies[\"imdb_id\"] = df_movies[\"imdb_id\"].str[2:]"
   ]
  },
  {
   "cell_type": "code",
   "execution_count": 8,
   "id": "7440a8d5-c88f-4ce6-a74e-1c902db70e18",
   "metadata": {},
   "outputs": [
    {
     "name": "stdout",
     "output_type": "stream",
     "text": [
      "Data in s1 intersect s2: 45432\n",
      "Data in s1 intersect s3: 7565\n",
      "Data in s1 intersect s4: 7985\n"
     ]
    }
   ],
   "source": [
    "# Check number of data after intersection\n",
    "s1_id = set(df_movies[\"id\"])\n",
    "s1_imdb = set(df_movies[\"imdb_id\"])\n",
    "s2_id = set(df_keywords[\"id\"])\n",
    "s3_id = set(df_ratings[\"movieId\"])\n",
    "s4_imdb = set(df_scores[\"imdbid\"])\n",
    "\n",
    "print(f\"Data in s1 intersect s2: {len(s1_id & s2_id)}\")\n",
    "print(f\"Data in s1 intersect s3: {len(s1_id & s3_id)}\")\n",
    "print(f\"Data in s1 intersect s4: {len(s1_imdb & s4_imdb)}\")"
   ]
  },
  {
   "cell_type": "markdown",
   "id": "85202af3-083f-43af-8feb-106b296a6efa",
   "metadata": {},
   "source": [
    "There will be even less data if we combine 4 dataframes together."
   ]
  },
  {
   "cell_type": "markdown",
   "id": "075c0469-2a0f-4f5f-b77f-7ce405ee15a7",
   "metadata": {},
   "source": [
    "**Then, let's merge df_movies with other 3 dataframes**"
   ]
  },
  {
   "cell_type": "code",
   "execution_count": 9,
   "id": "0c8a8f98-520c-4af7-93e7-34d26d7034d9",
   "metadata": {},
   "outputs": [],
   "source": [
    "# Combine df_movies and df_keywords together\n",
    "# Combine and retain only matching rows\n",
    "df_movies = df_movies.merge(df_keywords, on=\"id\")"
   ]
  },
  {
   "cell_type": "code",
   "execution_count": 10,
   "id": "dd8aaa19-83d9-4c6a-a15c-28104d679077",
   "metadata": {},
   "outputs": [],
   "source": [
    "# Combine df_movies and df_ratings together\n",
    "# Calculate average ratings\n",
    "df_ratings = df_ratings.groupby(\"movieId\")[\"rating\"].mean().reset_index()\n",
    "df_ratings.columns = [\"id\", \"rating\"]\n",
    "\n",
    "# Combine and retain only matching rows\n",
    "df_movies = df_movies.merge(df_ratings, on=\"id\")"
   ]
  },
  {
   "cell_type": "code",
   "execution_count": 11,
   "id": "3f5abbb6-ca35-4229-a038-956892ab383e",
   "metadata": {},
   "outputs": [],
   "source": [
    "# Combine df_movies and df_scores together\n",
    "df_scores = df_scores[[\"imdbid\", \"rating\"]]\n",
    "df_scores.columns = [\"imdb_id\", \"bechdel_score\"]\n",
    "\n",
    "# Combine and retain only matching rows\n",
    "df_movies = df_movies.merge(df_scores, on=\"imdb_id\")"
   ]
  },
  {
   "cell_type": "markdown",
   "id": "f717eab1-5e9c-4b5c-8cd4-6b33fddbda0f",
   "metadata": {},
   "source": [
    "**There only 2k+ rows data now.**"
   ]
  },
  {
   "cell_type": "code",
   "execution_count": 12,
   "id": "cd6e0b94-1043-42fe-a8a0-2a48150017c0",
   "metadata": {},
   "outputs": [],
   "source": [
    "# If you want to save memory \n",
    "del df_keywords\n",
    "del df_ratings\n",
    "del df_scores"
   ]
  },
  {
   "cell_type": "markdown",
   "id": "ec4d865f-15ee-4919-b68b-c3267e5df53f",
   "metadata": {},
   "source": [
    "## Change data type"
   ]
  },
  {
   "cell_type": "code",
   "execution_count": 13,
   "id": "a048fdb9-b974-48d3-8e93-fd1ea8370e3a",
   "metadata": {},
   "outputs": [
    {
     "name": "stdout",
     "output_type": "stream",
     "text": [
      "adult                     object\n",
      "belongs_to_collection     object\n",
      "budget                    object\n",
      "genres                    object\n",
      "homepage                  object\n",
      "id                         int64\n",
      "imdb_id                   object\n",
      "original_language         object\n",
      "original_title            object\n",
      "overview                  object\n",
      "popularity                object\n",
      "poster_path               object\n",
      "production_companies      object\n",
      "production_countries      object\n",
      "release_date              object\n",
      "revenue                  float64\n",
      "runtime                  float64\n",
      "spoken_languages          object\n",
      "status                    object\n",
      "tagline                   object\n",
      "title                     object\n",
      "video                     object\n",
      "vote_average             float64\n",
      "vote_count               float64\n",
      "keywords                  object\n",
      "rating                   float64\n",
      "bechdel_score              int64\n",
      "dtype: object\n"
     ]
    }
   ],
   "source": [
    "# Check column names and types in df_movies\n",
    "print(df_movies.dtypes)"
   ]
  },
  {
   "cell_type": "code",
   "execution_count": 14,
   "id": "24362d0c-5774-4967-8b98-0e40d5cea382",
   "metadata": {},
   "outputs": [],
   "source": [
    "# Pick columns that we need to train our model\n",
    "# You may add more column here\n",
    "column_names = [\"budget\", \"popularity\", \"revenue\", \"runtime\", \"vote_average\", \"vote_count\", \"rating\", \"bechdel_score\"]\n",
    "df_movies = df_movies[column_names]"
   ]
  },
  {
   "cell_type": "code",
   "execution_count": 15,
   "id": "42096361-92c8-4a9b-ac75-2a0dcb25be12",
   "metadata": {},
   "outputs": [],
   "source": [
    "# Convert budget and popularity column from string to float\n",
    "df_movies[\"budget\"] = df_movies[\"budget\"].astype(float)\n",
    "df_movies[\"popularity\"] = df_movies[\"popularity\"].astype(float)"
   ]
  },
  {
   "cell_type": "markdown",
   "id": "e86f2918-57f6-4e42-a3d2-c40b97de4952",
   "metadata": {},
   "source": [
    "**You may apply more data preprocessing here.**"
   ]
  },
  {
   "cell_type": "code",
   "execution_count": 16,
   "id": "c74168b5-cb7c-4595-8023-16fc187821f5",
   "metadata": {},
   "outputs": [],
   "source": [
    "# You may apply one-hot encoding to categorical columns like \"genres\"\n",
    "# However, in that case there will be a lot of sparse input features."
   ]
  },
  {
   "cell_type": "markdown",
   "id": "2af6d5ec-b360-4ba0-afe8-256ccab1337f",
   "metadata": {},
   "source": [
    "## Split dataset"
   ]
  },
  {
   "cell_type": "code",
   "execution_count": 29,
   "id": "3ed52a5c-307c-49f4-9ea9-df18ab749fe0",
   "metadata": {},
   "outputs": [],
   "source": [
    "# Convert data into numpy array\n",
    "data = df_movies.values\n",
    "\n",
    "# Shuffle data, you may change seed\n",
    "np.random.seed(1)\n",
    "np.random.shuffle(data)\n",
    "\n",
    "# split features and label\n",
    "x, y = data[:, :-1], data[:, -1]\n",
    "\n",
    "# Change data type\n",
    "x = x.astype(np.float32)\n",
    "y = y.astype(np.int32) # We use float in regression and int in classification"
   ]
  },
  {
   "cell_type": "code",
   "execution_count": 30,
   "id": "5022b143-0cad-452d-96dd-b84044c7a9a6",
   "metadata": {},
   "outputs": [],
   "source": [
    "# split train dataset and test dataset, you may change the ratio\n",
    "train_ratio = 0.9\n",
    "threshold = int(train_ratio * len(x))\n",
    "x_train, y_train = x[:threshold, :], y[:threshold]\n",
    "x_test,  y_test  = x[threshold:, :], y[threshold:]\n",
    "\n",
    "# Feature scaling with Z-score\n",
    "train_mean, train_std = np.mean(x_train, axis=0), np.std(x_train, axis=0)\n",
    "x_train = (x_train - train_mean) / train_std\n",
    "x_test  = (x_test  - train_mean) / train_std"
   ]
  },
  {
   "cell_type": "markdown",
   "id": "a5e18ce8-05e5-458d-bf2d-d3a3de00826e",
   "metadata": {},
   "source": [
    "Then you can go training model with (x_train, y_train), and test model with (x_test, y_test)"
   ]
  },
  {
   "cell_type": "markdown",
   "id": "c8d4880f-01bd-4671-b631-b4adf038b985",
   "metadata": {},
   "source": [
    "## Train models (demo)"
   ]
  },
  {
   "cell_type": "code",
   "execution_count": 35,
   "id": "eee5a0a3-ef75-4388-aed2-e5a2721c39ea",
   "metadata": {},
   "outputs": [
    {
     "name": "stdout",
     "output_type": "stream",
     "text": [
      "SVM: Loss- 1.6221198156682028, Accuracy- 0.5576036866359447\n",
      "RF: Loss- 1.7788018433179724, Accuracy- 0.511520737327189\n",
      "GNB: Loss- 1.8387096774193548, Accuracy- 0.5207373271889401\n"
     ]
    }
   ],
   "source": [
    "from sklearn.svm import SVC\n",
    "from sklearn.ensemble import RandomForestClassifier\n",
    "from sklearn.naive_bayes import GaussianNB\n",
    "from sklearn.metrics import mean_squared_error\n",
    "\n",
    "# Support vector machine\n",
    "model = SVC()\n",
    "model.fit(x_train, y_train)\n",
    "y_pred = model.predict(x_test)\n",
    "\n",
    "loss = mean_squared_error(y_test, y_pred)\n",
    "acc = np.mean(y_pred[:] == y_test[:])\n",
    "print(f\"SVM: Loss- {loss}, Accuracy- {acc}\")\n",
    "\n",
    "# Random forest\n",
    "model = RandomForestClassifier()\n",
    "model.fit(x_train, y_train)\n",
    "y_pred = model.predict(x_test)\n",
    "\n",
    "loss = mean_squared_error(y_test, y_pred)\n",
    "acc = np.mean(y_pred[:] == y_test[:])\n",
    "print(f\"RF: Loss- {loss}, Accuracy- {acc}\")\n",
    "\n",
    "# Gaussian naive bayes\n",
    "model = GaussianNB()\n",
    "model.fit(x_train, y_train)\n",
    "y_pred = model.predict(x_test)\n",
    "\n",
    "loss = mean_squared_error(y_test, y_pred)\n",
    "acc = np.mean(y_pred[:] == y_test[:])\n",
    "print(f\"GNB: Loss- {loss}, Accuracy- {acc}\")"
   ]
  },
  {
   "cell_type": "code",
   "execution_count": null,
   "id": "1dd1ada3-ad2c-4aa6-b562-7003070ffc37",
   "metadata": {},
   "outputs": [],
   "source": []
  }
 ],
 "metadata": {
  "kernelspec": {
   "display_name": "Python 3 (ipykernel)",
   "language": "python",
   "name": "python3"
  },
  "language_info": {
   "codemirror_mode": {
    "name": "ipython",
    "version": 3
   },
   "file_extension": ".py",
   "mimetype": "text/x-python",
   "name": "python",
   "nbconvert_exporter": "python",
   "pygments_lexer": "ipython3",
   "version": "3.10.11"
  }
 },
 "nbformat": 4,
 "nbformat_minor": 5
}
