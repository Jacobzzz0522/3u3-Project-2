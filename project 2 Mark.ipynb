{
 "cells": [
  {
   "cell_type": "markdown",
   "id": "43e832ca-34b1-423a-818b-bfe1594d2f1b",
   "metadata": {},
   "source": [
    "# CSS 206 Mini-Project Data Preprocess + Model demos"
   ]
  },
  {
   "cell_type": "markdown",
   "id": "3f39eb8e-140e-48c3-a20d-1aed00a94dc6",
   "metadata": {},
   "source": [
    "## Load data files"
   ]
  },
  {
   "cell_type": "markdown",
   "id": "7e4a560c-086a-488e-9076-2ea34b51d341",
   "metadata": {},
   "source": [
    "Assume we have already downloaded csv files in a local folder named \"data\"."
   ]
  },
  {
   "cell_type": "code",
   "execution_count": 193,
   "id": "f0ed3e8b",
   "metadata": {},
   "outputs": [],
   "source": [
    "import pandas as pd\n",
    "import numpy as np\n",
    "import requests\n",
    "import sklearn\n",
    "import nltk\n",
    "from nltk.stem import PorterStemmer\n",
    "import seaborn as sns\n",
    "from unidecode import unidecode\n",
    "import matplotlib.pyplot as plt\n",
    "from scipy.special import softmax\n",
    "from scipy.stats import spearmanr, pearsonr"
   ]
  },
  {
   "cell_type": "code",
   "execution_count": 2,
   "id": "aa799a94-33d6-4f2f-a749-0bfe92f6081e",
   "metadata": {},
   "outputs": [
    {
     "name": "stderr",
     "output_type": "stream",
     "text": [
      "/var/folders/bt/_dsrh6ld2yncbnn9vk_d2lcc0000gp/T/ipykernel_87978/3316075403.py:2: DtypeWarning: Columns (10) have mixed types. Specify dtype option on import or set low_memory=False.\n",
      "  df_movies = pd.read_csv(\"./data/movies_metadata.csv\")\n",
      "/var/folders/bt/_dsrh6ld2yncbnn9vk_d2lcc0000gp/T/ipykernel_87978/3316075403.py:9: FutureWarning: Passing literal json to 'read_json' is deprecated and will be removed in a future version. To read from a literal string, wrap it in a 'StringIO' object.\n",
      "  df_scores = pd.read_json(response.text)\n"
     ]
    }
   ],
   "source": [
    "# Load local csv files\n",
    "df_movies = pd.read_csv(\"./data/movies_metadata.csv\")\n",
    "df_keywords = pd.read_csv(\"./data/keywords.csv\")\n",
    "df_ratings = pd.read_csv(\"./data/ratings.csv\")\n",
    "\n",
    "# Download bechdel test score data\n",
    "address = \"http://bechdeltest.com/api/v1/getAllMovies\"\n",
    "response = requests.get(address)\n",
    "df_scores = pd.read_json(response.text)"
   ]
  },
  {
   "cell_type": "markdown",
   "id": "de94fc9e-6ba8-4678-bd2b-38247e1398f3",
   "metadata": {},
   "source": [
    "## Combine dataframes"
   ]
  },
  {
   "cell_type": "markdown",
   "id": "85bc2668-3f8d-4ec2-b509-c7772faf0f67",
   "metadata": {},
   "source": [
    "**Let's have a look at dataframes and process id and imdb_id column**"
   ]
  },
  {
   "cell_type": "code",
   "execution_count": 3,
   "id": "ade5acf4-b423-458f-b900-70d22d8f2ebb",
   "metadata": {},
   "outputs": [
    {
     "name": "stdout",
     "output_type": "stream",
     "text": [
      "adult                     object\n",
      "belongs_to_collection     object\n",
      "budget                    object\n",
      "genres                    object\n",
      "homepage                  object\n",
      "id                        object\n",
      "imdb_id                   object\n",
      "original_language         object\n",
      "original_title            object\n",
      "overview                  object\n",
      "popularity                object\n",
      "poster_path               object\n",
      "production_companies      object\n",
      "production_countries      object\n",
      "release_date              object\n",
      "revenue                  float64\n",
      "runtime                  float64\n",
      "spoken_languages          object\n",
      "status                    object\n",
      "tagline                   object\n",
      "title                     object\n",
      "video                     object\n",
      "vote_average             float64\n",
      "vote_count               float64\n",
      "dtype: object\n",
      "(45466, 24)\n"
     ]
    }
   ],
   "source": [
    "# movies dataframe\n",
    "print(df_movies.dtypes)\n",
    "print(df_movies.shape)"
   ]
  },
  {
   "cell_type": "code",
   "execution_count": 4,
   "id": "1b31003b-ec60-4613-8a8e-536f2cf5bfcf",
   "metadata": {},
   "outputs": [
    {
     "name": "stdout",
     "output_type": "stream",
     "text": [
      "id           int64\n",
      "keywords    object\n",
      "dtype: object\n",
      "(46419, 2)\n"
     ]
    }
   ],
   "source": [
    "# keywords dataframe\n",
    "print(df_keywords.dtypes)\n",
    "print(df_keywords.shape)"
   ]
  },
  {
   "cell_type": "code",
   "execution_count": 5,
   "id": "5fb57338-429b-4e31-a883-b0c617702fe1",
   "metadata": {},
   "outputs": [
    {
     "name": "stdout",
     "output_type": "stream",
     "text": [
      "userId         int64\n",
      "movieId        int64\n",
      "rating       float64\n",
      "timestamp      int64\n",
      "dtype: object\n",
      "(26024289, 4)\n"
     ]
    }
   ],
   "source": [
    "# rating dataframe\n",
    "print(df_ratings.dtypes)\n",
    "print(df_ratings.shape)"
   ]
  },
  {
   "cell_type": "code",
   "execution_count": 6,
   "id": "102f81cb-06e4-438a-98bb-d30bef430ddf",
   "metadata": {},
   "outputs": [
    {
     "name": "stdout",
     "output_type": "stream",
     "text": [
      "year       int64\n",
      "title     object\n",
      "id         int64\n",
      "imdbid    object\n",
      "rating     int64\n",
      "dtype: object\n",
      "(10493, 5)\n"
     ]
    }
   ],
   "source": [
    "# scores dataframe\n",
    "print(df_scores.dtypes)\n",
    "print(df_scores.shape)"
   ]
  },
  {
   "cell_type": "code",
   "execution_count": 7,
   "id": "347cb740-61a0-4f96-b966-98057cc94c25",
   "metadata": {},
   "outputs": [],
   "source": [
    "# Preprocess \"id\" and \"imdb_id\" columns in df_movies\n",
    "\n",
    "# \"id\" in df_movies is str, \"id\" in df_ratings and df_keywords is int64\n",
    "df_movies[\"id\"] = pd.to_numeric(df_movies[\"id\"], errors=\"coerce\")\n",
    "df_movies.dropna(subset=[\"id\"], inplace=True)\n",
    "df_movies[\"id\"] = df_movies[\"id\"].astype(\"int64\")\n",
    "\n",
    "# imdbid in df_movies and df_scores both are str\n",
    "# imdbid in df_movies has additonal \"tt\" prefix, so we remove it\n",
    "df_movies[\"imdb_id\"] = df_movies[\"imdb_id\"].str[2:]"
   ]
  },
  {
   "cell_type": "code",
   "execution_count": 8,
   "id": "7440a8d5-c88f-4ce6-a74e-1c902db70e18",
   "metadata": {},
   "outputs": [
    {
     "name": "stdout",
     "output_type": "stream",
     "text": [
      "Data in s1 intersect s2: 45432\n",
      "Data in s1 intersect s3: 7565\n",
      "Data in s1 intersect s4: 7985\n"
     ]
    }
   ],
   "source": [
    "# Check number of data after intersection\n",
    "s1_id = set(df_movies[\"id\"])\n",
    "s1_imdb = set(df_movies[\"imdb_id\"])\n",
    "s2_id = set(df_keywords[\"id\"])\n",
    "s3_id = set(df_ratings[\"movieId\"])\n",
    "s4_imdb = set(df_scores[\"imdbid\"])\n",
    "\n",
    "print(f\"Data in s1 intersect s2: {len(s1_id & s2_id)}\")\n",
    "print(f\"Data in s1 intersect s3: {len(s1_id & s3_id)}\")\n",
    "print(f\"Data in s1 intersect s4: {len(s1_imdb & s4_imdb)}\")"
   ]
  },
  {
   "cell_type": "markdown",
   "id": "85202af3-083f-43af-8feb-106b296a6efa",
   "metadata": {},
   "source": [
    "There will be even less data if we combine 4 dataframes together."
   ]
  },
  {
   "cell_type": "markdown",
   "id": "075c0469-2a0f-4f5f-b77f-7ce405ee15a7",
   "metadata": {},
   "source": [
    "**Then, let's merge df_movies with other 3 dataframes**"
   ]
  },
  {
   "cell_type": "code",
   "execution_count": 9,
   "id": "0c8a8f98-520c-4af7-93e7-34d26d7034d9",
   "metadata": {},
   "outputs": [],
   "source": [
    "# Combine df_movies and df_keywords together\n",
    "# Combine and retain only matching rows\n",
    "df_movies = df_movies.merge(df_keywords, on=\"id\")"
   ]
  },
  {
   "cell_type": "code",
   "execution_count": 10,
   "id": "dd8aaa19-83d9-4c6a-a15c-28104d679077",
   "metadata": {},
   "outputs": [],
   "source": [
    "# Combine df_movies and df_ratings together\n",
    "# Calculate average ratings\n",
    "df_ratings = df_ratings.groupby(\"movieId\")[\"rating\"].mean().reset_index()\n",
    "df_ratings.columns = [\"id\", \"rating\"]\n",
    "\n",
    "# Combine and retain only matching rows\n",
    "df_movies = df_movies.merge(df_ratings, on=\"id\")"
   ]
  },
  {
   "cell_type": "code",
   "execution_count": 11,
   "id": "3f5abbb6-ca35-4229-a038-956892ab383e",
   "metadata": {},
   "outputs": [],
   "source": [
    "# Combine df_movies and df_scores together\n",
    "df_scores = df_scores[[\"imdbid\", \"rating\"]]\n",
    "df_scores.columns = [\"imdb_id\", \"bechdel_score\"]\n",
    "\n",
    "# Combine and retain only matching rows\n",
    "df_movies = df_movies.merge(df_scores, on=\"imdb_id\")"
   ]
  },
  {
   "cell_type": "markdown",
   "id": "f717eab1-5e9c-4b5c-8cd4-6b33fddbda0f",
   "metadata": {},
   "source": [
    "**There only 2k+ rows data now.**"
   ]
  },
  {
   "cell_type": "code",
   "execution_count": 12,
   "id": "cd6e0b94-1043-42fe-a8a0-2a48150017c0",
   "metadata": {},
   "outputs": [],
   "source": [
    "# If you want to save memory \n",
    "del df_keywords\n",
    "del df_ratings\n",
    "del df_scores"
   ]
  },
  {
   "cell_type": "markdown",
   "id": "ec4d865f-15ee-4919-b68b-c3267e5df53f",
   "metadata": {},
   "source": [
    "## Change data type"
   ]
  },
  {
   "cell_type": "code",
   "execution_count": 13,
   "id": "a048fdb9-b974-48d3-8e93-fd1ea8370e3a",
   "metadata": {},
   "outputs": [
    {
     "name": "stdout",
     "output_type": "stream",
     "text": [
      "adult                     object\n",
      "belongs_to_collection     object\n",
      "budget                    object\n",
      "genres                    object\n",
      "homepage                  object\n",
      "id                         int64\n",
      "imdb_id                   object\n",
      "original_language         object\n",
      "original_title            object\n",
      "overview                  object\n",
      "popularity                object\n",
      "poster_path               object\n",
      "production_companies      object\n",
      "production_countries      object\n",
      "release_date              object\n",
      "revenue                  float64\n",
      "runtime                  float64\n",
      "spoken_languages          object\n",
      "status                    object\n",
      "tagline                   object\n",
      "title                     object\n",
      "video                     object\n",
      "vote_average             float64\n",
      "vote_count               float64\n",
      "keywords                  object\n",
      "rating                   float64\n",
      "bechdel_score              int64\n",
      "dtype: object\n"
     ]
    }
   ],
   "source": [
    "# Check column names and types in df_movies\n",
    "print(df_movies.dtypes)"
   ]
  },
  {
   "cell_type": "markdown",
   "id": "4ed25d97",
   "metadata": {},
   "source": [
    "# Add categorical data\n",
    "`genres`, `spoken_languages`, `original_language`, `production_countries`\n",
    "\n",
    "Ignoring `production_companies` because there are more unique values than there are rows."
   ]
  },
  {
   "cell_type": "code",
   "execution_count": 14,
   "id": "799bebac",
   "metadata": {},
   "outputs": [
    {
     "data": {
      "text/plain": [
       "0                [{'iso_639_1': 'en', 'name': 'English'}]\n",
       "1       [{'iso_639_1': 'en', 'name': 'English'}, {'iso...\n",
       "2       [{'iso_639_1': 'en', 'name': 'English'}, {'iso...\n",
       "3       [{'iso_639_1': 'en', 'name': 'English'}, {'iso...\n",
       "4       [{'iso_639_1': 'en', 'name': 'English'}, {'iso...\n",
       "                              ...                        \n",
       "2162             [{'iso_639_1': 'en', 'name': 'English'}]\n",
       "2163         [{'iso_639_1': 'xx', 'name': 'No Language'}]\n",
       "2164    [{'iso_639_1': 'en', 'name': 'English'}, {'iso...\n",
       "2165             [{'iso_639_1': 'en', 'name': 'English'}]\n",
       "2166         [{'iso_639_1': 'xx', 'name': 'No Language'}]\n",
       "Name: spoken_languages, Length: 2167, dtype: object"
      ]
     },
     "execution_count": 14,
     "metadata": {},
     "output_type": "execute_result"
    }
   ],
   "source": [
    "df_movies['spoken_languages']"
   ]
  },
  {
   "cell_type": "code",
   "execution_count": 15,
   "id": "6076102c",
   "metadata": {},
   "outputs": [],
   "source": [
    "df_movies['spoken_language_iso']=df_movies['spoken_languages'].apply(eval).apply(lambda l: [x['iso_639_1'] for x in l])\n",
    "df_movies['genre_names']=df_movies['genres'].apply(eval).apply(lambda l: [x['name'] for x in l])\n",
    "df_movies['country_names']=df_movies['production_countries'].apply(eval).apply(lambda l: [x['name'] for x in l])"
   ]
  },
  {
   "cell_type": "code",
   "execution_count": 16,
   "id": "379a3a01",
   "metadata": {},
   "outputs": [
    {
     "data": {
      "text/plain": [
       "20"
      ]
     },
     "execution_count": 16,
     "metadata": {},
     "output_type": "execute_result"
    }
   ],
   "source": [
    "genres = set()\n",
    "df_movies['genre_names'].apply(genres.update)\n",
    "len(genres)"
   ]
  },
  {
   "cell_type": "code",
   "execution_count": 17,
   "id": "1254d55a",
   "metadata": {},
   "outputs": [
    {
     "data": {
      "text/plain": [
       "33"
      ]
     },
     "execution_count": 17,
     "metadata": {},
     "output_type": "execute_result"
    }
   ],
   "source": [
    "original_language = set()\n",
    "df_movies['original_language'].dropna().apply(original_language.add)\n",
    "len(original_language)"
   ]
  },
  {
   "cell_type": "code",
   "execution_count": 18,
   "id": "5fb1a7a1",
   "metadata": {},
   "outputs": [
    {
     "data": {
      "text/plain": [
       "72"
      ]
     },
     "execution_count": 18,
     "metadata": {},
     "output_type": "execute_result"
    }
   ],
   "source": [
    "spoken_languages = set()\n",
    "df_movies['spoken_language_iso'].apply(spoken_languages.update)\n",
    "len(spoken_languages)"
   ]
  },
  {
   "cell_type": "code",
   "execution_count": 19,
   "id": "34b13ebb",
   "metadata": {},
   "outputs": [
    {
     "data": {
      "text/plain": [
       "73"
      ]
     },
     "execution_count": 19,
     "metadata": {},
     "output_type": "execute_result"
    }
   ],
   "source": [
    "production_countries = set()\n",
    "df_movies['country_names'].apply(production_countries.update)\n",
    "len(production_countries)"
   ]
  },
  {
   "cell_type": "code",
   "execution_count": 20,
   "id": "654e49e4",
   "metadata": {},
   "outputs": [],
   "source": [
    "# production_companies = set()\n",
    "# df_movies['production_companies'].apply(lambda l: production_companies.update([x['name'] for x in l]))\n",
    "# len(production_companies)\n",
    "# 2813"
   ]
  },
  {
   "cell_type": "markdown",
   "id": "6a233763",
   "metadata": {},
   "source": [
    "For multi-valued categorical variables, decompose into 1-hot columns"
   ]
  },
  {
   "cell_type": "code",
   "execution_count": 21,
   "id": "2af1cc75",
   "metadata": {},
   "outputs": [
    {
     "data": {
      "text/html": [
       "<div>\n",
       "<style scoped>\n",
       "    .dataframe tbody tr th:only-of-type {\n",
       "        vertical-align: middle;\n",
       "    }\n",
       "\n",
       "    .dataframe tbody tr th {\n",
       "        vertical-align: top;\n",
       "    }\n",
       "\n",
       "    .dataframe thead th {\n",
       "        text-align: right;\n",
       "    }\n",
       "</style>\n",
       "<table border=\"1\" class=\"dataframe\">\n",
       "  <thead>\n",
       "    <tr style=\"text-align: right;\">\n",
       "      <th></th>\n",
       "      <th>adult</th>\n",
       "      <th>belongs_to_collection</th>\n",
       "      <th>budget</th>\n",
       "      <th>genres</th>\n",
       "      <th>homepage</th>\n",
       "      <th>id</th>\n",
       "      <th>imdb_id</th>\n",
       "      <th>original_language</th>\n",
       "      <th>original_title</th>\n",
       "      <th>overview</th>\n",
       "      <th>...</th>\n",
       "      <th>country_names_Finland</th>\n",
       "      <th>country_names_Thailand</th>\n",
       "      <th>country_names_Palestinian Territory</th>\n",
       "      <th>country_names_Soviet Union</th>\n",
       "      <th>country_names_Mongolia</th>\n",
       "      <th>country_names_Uruguay</th>\n",
       "      <th>country_names_Hungary</th>\n",
       "      <th>country_names_Greece</th>\n",
       "      <th>country_names_Ukraine</th>\n",
       "      <th>country_names_Sweden</th>\n",
       "    </tr>\n",
       "  </thead>\n",
       "  <tbody>\n",
       "    <tr>\n",
       "      <th>0</th>\n",
       "      <td>False</td>\n",
       "      <td>{'id': 10194, 'name': 'Toy Story Collection', ...</td>\n",
       "      <td>30000000</td>\n",
       "      <td>[{'id': 16, 'name': 'Animation'}, {'id': 35, '...</td>\n",
       "      <td>http://toystory.disney.com/toy-story</td>\n",
       "      <td>862</td>\n",
       "      <td>0114709</td>\n",
       "      <td>en</td>\n",
       "      <td>Toy Story</td>\n",
       "      <td>Led by Woody, Andy's toys live happily in his ...</td>\n",
       "      <td>...</td>\n",
       "      <td>0</td>\n",
       "      <td>0</td>\n",
       "      <td>0</td>\n",
       "      <td>0</td>\n",
       "      <td>0</td>\n",
       "      <td>0</td>\n",
       "      <td>0</td>\n",
       "      <td>0</td>\n",
       "      <td>0</td>\n",
       "      <td>0</td>\n",
       "    </tr>\n",
       "    <tr>\n",
       "      <th>1</th>\n",
       "      <td>False</td>\n",
       "      <td>NaN</td>\n",
       "      <td>65000000</td>\n",
       "      <td>[{'id': 12, 'name': 'Adventure'}, {'id': 14, '...</td>\n",
       "      <td>NaN</td>\n",
       "      <td>8844</td>\n",
       "      <td>0113497</td>\n",
       "      <td>en</td>\n",
       "      <td>Jumanji</td>\n",
       "      <td>When siblings Judy and Peter discover an encha...</td>\n",
       "      <td>...</td>\n",
       "      <td>0</td>\n",
       "      <td>0</td>\n",
       "      <td>0</td>\n",
       "      <td>0</td>\n",
       "      <td>0</td>\n",
       "      <td>0</td>\n",
       "      <td>0</td>\n",
       "      <td>0</td>\n",
       "      <td>0</td>\n",
       "      <td>0</td>\n",
       "    </tr>\n",
       "    <tr>\n",
       "      <th>2</th>\n",
       "      <td>False</td>\n",
       "      <td>NaN</td>\n",
       "      <td>60000000</td>\n",
       "      <td>[{'id': 28, 'name': 'Action'}, {'id': 80, 'nam...</td>\n",
       "      <td>NaN</td>\n",
       "      <td>949</td>\n",
       "      <td>0113277</td>\n",
       "      <td>en</td>\n",
       "      <td>Heat</td>\n",
       "      <td>Obsessive master thief, Neil McCauley leads a ...</td>\n",
       "      <td>...</td>\n",
       "      <td>0</td>\n",
       "      <td>0</td>\n",
       "      <td>0</td>\n",
       "      <td>0</td>\n",
       "      <td>0</td>\n",
       "      <td>0</td>\n",
       "      <td>0</td>\n",
       "      <td>0</td>\n",
       "      <td>0</td>\n",
       "      <td>0</td>\n",
       "    </tr>\n",
       "    <tr>\n",
       "      <th>3</th>\n",
       "      <td>False</td>\n",
       "      <td>{'id': 645, 'name': 'James Bond Collection', '...</td>\n",
       "      <td>58000000</td>\n",
       "      <td>[{'id': 12, 'name': 'Adventure'}, {'id': 28, '...</td>\n",
       "      <td>http://www.mgm.com/view/movie/757/Goldeneye/</td>\n",
       "      <td>710</td>\n",
       "      <td>0113189</td>\n",
       "      <td>en</td>\n",
       "      <td>GoldenEye</td>\n",
       "      <td>James Bond must unmask the mysterious head of ...</td>\n",
       "      <td>...</td>\n",
       "      <td>0</td>\n",
       "      <td>0</td>\n",
       "      <td>0</td>\n",
       "      <td>0</td>\n",
       "      <td>0</td>\n",
       "      <td>0</td>\n",
       "      <td>0</td>\n",
       "      <td>0</td>\n",
       "      <td>0</td>\n",
       "      <td>0</td>\n",
       "    </tr>\n",
       "    <tr>\n",
       "      <th>4</th>\n",
       "      <td>False</td>\n",
       "      <td>NaN</td>\n",
       "      <td>98000000</td>\n",
       "      <td>[{'id': 28, 'name': 'Action'}, {'id': 12, 'nam...</td>\n",
       "      <td>NaN</td>\n",
       "      <td>1408</td>\n",
       "      <td>0112760</td>\n",
       "      <td>en</td>\n",
       "      <td>Cutthroat Island</td>\n",
       "      <td>Morgan Adams and her slave, William Shaw, are ...</td>\n",
       "      <td>...</td>\n",
       "      <td>0</td>\n",
       "      <td>0</td>\n",
       "      <td>0</td>\n",
       "      <td>0</td>\n",
       "      <td>0</td>\n",
       "      <td>0</td>\n",
       "      <td>0</td>\n",
       "      <td>0</td>\n",
       "      <td>0</td>\n",
       "      <td>0</td>\n",
       "    </tr>\n",
       "  </tbody>\n",
       "</table>\n",
       "<p>5 rows × 195 columns</p>\n",
       "</div>"
      ],
      "text/plain": [
       "   adult                              belongs_to_collection    budget  \\\n",
       "0  False  {'id': 10194, 'name': 'Toy Story Collection', ...  30000000   \n",
       "1  False                                                NaN  65000000   \n",
       "2  False                                                NaN  60000000   \n",
       "3  False  {'id': 645, 'name': 'James Bond Collection', '...  58000000   \n",
       "4  False                                                NaN  98000000   \n",
       "\n",
       "                                              genres  \\\n",
       "0  [{'id': 16, 'name': 'Animation'}, {'id': 35, '...   \n",
       "1  [{'id': 12, 'name': 'Adventure'}, {'id': 14, '...   \n",
       "2  [{'id': 28, 'name': 'Action'}, {'id': 80, 'nam...   \n",
       "3  [{'id': 12, 'name': 'Adventure'}, {'id': 28, '...   \n",
       "4  [{'id': 28, 'name': 'Action'}, {'id': 12, 'nam...   \n",
       "\n",
       "                                       homepage    id  imdb_id  \\\n",
       "0          http://toystory.disney.com/toy-story   862  0114709   \n",
       "1                                           NaN  8844  0113497   \n",
       "2                                           NaN   949  0113277   \n",
       "3  http://www.mgm.com/view/movie/757/Goldeneye/   710  0113189   \n",
       "4                                           NaN  1408  0112760   \n",
       "\n",
       "  original_language    original_title  \\\n",
       "0                en         Toy Story   \n",
       "1                en           Jumanji   \n",
       "2                en              Heat   \n",
       "3                en         GoldenEye   \n",
       "4                en  Cutthroat Island   \n",
       "\n",
       "                                            overview  ...  \\\n",
       "0  Led by Woody, Andy's toys live happily in his ...  ...   \n",
       "1  When siblings Judy and Peter discover an encha...  ...   \n",
       "2  Obsessive master thief, Neil McCauley leads a ...  ...   \n",
       "3  James Bond must unmask the mysterious head of ...  ...   \n",
       "4  Morgan Adams and her slave, William Shaw, are ...  ...   \n",
       "\n",
       "  country_names_Finland country_names_Thailand  \\\n",
       "0                     0                      0   \n",
       "1                     0                      0   \n",
       "2                     0                      0   \n",
       "3                     0                      0   \n",
       "4                     0                      0   \n",
       "\n",
       "  country_names_Palestinian Territory country_names_Soviet Union  \\\n",
       "0                                   0                          0   \n",
       "1                                   0                          0   \n",
       "2                                   0                          0   \n",
       "3                                   0                          0   \n",
       "4                                   0                          0   \n",
       "\n",
       "  country_names_Mongolia  country_names_Uruguay  country_names_Hungary  \\\n",
       "0                      0                      0                      0   \n",
       "1                      0                      0                      0   \n",
       "2                      0                      0                      0   \n",
       "3                      0                      0                      0   \n",
       "4                      0                      0                      0   \n",
       "\n",
       "  country_names_Greece country_names_Ukraine country_names_Sweden  \n",
       "0                    0                     0                    0  \n",
       "1                    0                     0                    0  \n",
       "2                    0                     0                    0  \n",
       "3                    0                     0                    0  \n",
       "4                    0                     0                    0  \n",
       "\n",
       "[5 rows x 195 columns]"
      ]
     },
     "execution_count": 21,
     "metadata": {},
     "output_type": "execute_result"
    }
   ],
   "source": [
    "categorical_vars = {\n",
    "    'genre_names': genres,\n",
    "    'spoken_language_iso': spoken_languages,\n",
    "    'country_names': production_countries\n",
    "}\n",
    "onehot_dict = {}\n",
    "for varname, values in categorical_vars.items():\n",
    "    for var in values:\n",
    "        colname = varname+'_'+var\n",
    "        varcol = np.zeros(len(df_movies), dtype=int)\n",
    "        onehot_dict[colname]=varcol\n",
    "        varcol[:]=0\n",
    "        has_var = df_movies[varname].apply(lambda l: var in l)\n",
    "        varcol[has_var]=1\n",
    "\n",
    "genre_cols = [col for col in onehot_dict if 'genre' in col]\n",
    "cntry_cols = [col for col in onehot_dict if 'countr' in col]\n",
    "lang_cols = [col for col in onehot_dict if 'spoken' in col]\n",
    "onehot_df = pd.DataFrame(onehot_dict)\n",
    "onehot_cols = onehot_df.columns.tolist()\n",
    "df_movies = pd.concat([df_movies, onehot_df], axis=1)\n",
    "# pd.concat([df_movies, onehot_df])\n",
    "\n",
    "df_movies.head()"
   ]
  },
  {
   "cell_type": "code",
   "execution_count": 22,
   "id": "dd395791",
   "metadata": {},
   "outputs": [
    {
     "name": "stdout",
     "output_type": "stream",
     "text": [
      "7 165\n"
     ]
    }
   ],
   "source": [
    "# Convert budget and popularity column from string to float\n",
    "df_movies[\"budget\"] = df_movies[\"budget\"].astype(float)\n",
    "df_movies[\"popularity\"] = df_movies[\"popularity\"].astype(float)\n",
    "\n",
    "# Columns with continuous data\n",
    "cont_cols = [\"budget\", \"popularity\", \"revenue\", \"runtime\", \"vote_average\", \"vote_count\", \"rating\"]\n",
    "print(len(cont_cols), len(onehot_cols))"
   ]
  },
  {
   "cell_type": "markdown",
   "id": "26adc517",
   "metadata": {},
   "source": [
    "Encode categorical variables as integers"
   ]
  },
  {
   "cell_type": "code",
   "execution_count": 23,
   "id": "f9aa4f6c",
   "metadata": {},
   "outputs": [
    {
     "data": {
      "text/html": [
       "<div>\n",
       "<style scoped>\n",
       "    .dataframe tbody tr th:only-of-type {\n",
       "        vertical-align: middle;\n",
       "    }\n",
       "\n",
       "    .dataframe tbody tr th {\n",
       "        vertical-align: top;\n",
       "    }\n",
       "\n",
       "    .dataframe thead th {\n",
       "        text-align: right;\n",
       "    }\n",
       "</style>\n",
       "<table border=\"1\" class=\"dataframe\">\n",
       "  <thead>\n",
       "    <tr style=\"text-align: right;\">\n",
       "      <th></th>\n",
       "      <th>belongs_to_collection_encoded</th>\n",
       "      <th>genres_encoded</th>\n",
       "      <th>original_language_encoded</th>\n",
       "      <th>production_countries_encoded</th>\n",
       "    </tr>\n",
       "  </thead>\n",
       "  <tbody>\n",
       "    <tr>\n",
       "      <th>0</th>\n",
       "      <td>5</td>\n",
       "      <td>218</td>\n",
       "      <td>8</td>\n",
       "      <td>296</td>\n",
       "    </tr>\n",
       "    <tr>\n",
       "      <th>1</th>\n",
       "      <td>0</td>\n",
       "      <td>73</td>\n",
       "      <td>8</td>\n",
       "      <td>296</td>\n",
       "    </tr>\n",
       "    <tr>\n",
       "      <th>2</th>\n",
       "      <td>0</td>\n",
       "      <td>478</td>\n",
       "      <td>8</td>\n",
       "      <td>296</td>\n",
       "    </tr>\n",
       "    <tr>\n",
       "      <th>3</th>\n",
       "      <td>242</td>\n",
       "      <td>129</td>\n",
       "      <td>8</td>\n",
       "      <td>188</td>\n",
       "    </tr>\n",
       "    <tr>\n",
       "      <th>4</th>\n",
       "      <td>0</td>\n",
       "      <td>416</td>\n",
       "      <td>8</td>\n",
       "      <td>139</td>\n",
       "    </tr>\n",
       "    <tr>\n",
       "      <th>...</th>\n",
       "      <td>...</td>\n",
       "      <td>...</td>\n",
       "      <td>...</td>\n",
       "      <td>...</td>\n",
       "    </tr>\n",
       "    <tr>\n",
       "      <th>2162</th>\n",
       "      <td>0</td>\n",
       "      <td>577</td>\n",
       "      <td>8</td>\n",
       "      <td>296</td>\n",
       "    </tr>\n",
       "    <tr>\n",
       "      <th>2163</th>\n",
       "      <td>0</td>\n",
       "      <td>514</td>\n",
       "      <td>12</td>\n",
       "      <td>169</td>\n",
       "    </tr>\n",
       "    <tr>\n",
       "      <th>2164</th>\n",
       "      <td>178</td>\n",
       "      <td>87</td>\n",
       "      <td>17</td>\n",
       "      <td>226</td>\n",
       "    </tr>\n",
       "    <tr>\n",
       "      <th>2165</th>\n",
       "      <td>0</td>\n",
       "      <td>4</td>\n",
       "      <td>8</td>\n",
       "      <td>296</td>\n",
       "    </tr>\n",
       "    <tr>\n",
       "      <th>2166</th>\n",
       "      <td>0</td>\n",
       "      <td>184</td>\n",
       "      <td>12</td>\n",
       "      <td>169</td>\n",
       "    </tr>\n",
       "  </tbody>\n",
       "</table>\n",
       "<p>2167 rows × 4 columns</p>\n",
       "</div>"
      ],
      "text/plain": [
       "      belongs_to_collection_encoded  genres_encoded  \\\n",
       "0                                 5             218   \n",
       "1                                 0              73   \n",
       "2                                 0             478   \n",
       "3                               242             129   \n",
       "4                                 0             416   \n",
       "...                             ...             ...   \n",
       "2162                              0             577   \n",
       "2163                              0             514   \n",
       "2164                            178              87   \n",
       "2165                              0               4   \n",
       "2166                              0             184   \n",
       "\n",
       "      original_language_encoded  production_countries_encoded  \n",
       "0                             8                           296  \n",
       "1                             8                           296  \n",
       "2                             8                           296  \n",
       "3                             8                           188  \n",
       "4                             8                           139  \n",
       "...                         ...                           ...  \n",
       "2162                          8                           296  \n",
       "2163                         12                           169  \n",
       "2164                         17                           226  \n",
       "2165                          8                           296  \n",
       "2166                         12                           169  \n",
       "\n",
       "[2167 rows x 4 columns]"
      ]
     },
     "execution_count": 23,
     "metadata": {},
     "output_type": "execute_result"
    }
   ],
   "source": [
    "from sklearn.preprocessing import LabelEncoder\n",
    "cat_cols = []\n",
    "category_names = ['belongs_to_collection', 'genres', 'original_language', 'production_countries']\n",
    "for cat in category_names:\n",
    "    colname = cat+'_encoded'\n",
    "    df_movies[colname] = LabelEncoder().fit_transform(df_movies[cat].apply(str))\n",
    "    cat_cols.append(colname)\n",
    "df_movies[cat_cols]"
   ]
  },
  {
   "cell_type": "code",
   "execution_count": 24,
   "id": "367a9c54",
   "metadata": {},
   "outputs": [
    {
     "data": {
      "text/plain": [
       "['budget',\n",
       " 'popularity',\n",
       " 'revenue',\n",
       " 'runtime',\n",
       " 'vote_average',\n",
       " 'vote_count',\n",
       " 'rating']"
      ]
     },
     "execution_count": 24,
     "metadata": {},
     "output_type": "execute_result"
    }
   ],
   "source": [
    "cont_cols"
   ]
  },
  {
   "cell_type": "code",
   "execution_count": 25,
   "id": "818791fa",
   "metadata": {},
   "outputs": [
    {
     "name": "stderr",
     "output_type": "stream",
     "text": [
      "/usr/local/lib/python3.9/site-packages/sklearn/preprocessing/_discretization.py:322: UserWarning: Bins whose width are too small (i.e., <= 1e-8) in feature 0 are removed. Consider decreasing the number of bins.\n",
      "  warnings.warn(\n",
      "/usr/local/lib/python3.9/site-packages/sklearn/preprocessing/_discretization.py:322: UserWarning: Bins whose width are too small (i.e., <= 1e-8) in feature 0 are removed. Consider decreasing the number of bins.\n",
      "  warnings.warn(\n"
     ]
    },
    {
     "data": {
      "text/plain": [
       "['budget_bin10',\n",
       " 'popularity_bin10',\n",
       " 'revenue_bin10',\n",
       " 'runtime_bin10',\n",
       " 'vote_average_bin10',\n",
       " 'vote_count_bin10',\n",
       " 'rating_bin10']"
      ]
     },
     "execution_count": 25,
     "metadata": {},
     "output_type": "execute_result"
    }
   ],
   "source": [
    "from sklearn.preprocessing import KBinsDiscretizer\n",
    "\n",
    "bin10_cols = []\n",
    "bin2_cols = []\n",
    "\n",
    "bin10er=KBinsDiscretizer(n_bins=10, encode='ordinal')\n",
    "bin2er=KBinsDiscretizer(n_bins=2, encode='ordinal')\n",
    "\n",
    "for col in cont_cols:\n",
    "    bin10_col = col+'_bin10'\n",
    "    # print(col, bin10_col)\n",
    "    df_movies[bin10_col]=bin10er.fit_transform(df_movies[col].to_numpy()[:,np.newaxis])\n",
    "    bin10_cols.append(bin10_col)\n",
    "\n",
    "    bin2_col = col+'_bin2'\n",
    "    df_movies[bin2_col]=bin2er.fit_transform(df_movies[col].to_numpy()[:,np.newaxis])\n",
    "    bin2_cols.append(bin2_col)\n",
    "bin10_cols"
   ]
  },
  {
   "cell_type": "markdown",
   "id": "6634d58d",
   "metadata": {},
   "source": [
    "# Add bag of word columns"
   ]
  },
  {
   "cell_type": "code",
   "execution_count": 26,
   "id": "2057d32f",
   "metadata": {},
   "outputs": [],
   "source": [
    "# from sklearn.feature_extraction.text import CountVectorizer\n",
    "# from sklearn.model_selection import cross_validate\n",
    "# from sklearn.naive_bayes import MultinomialNB, ComplementNB\n",
    "# vectorizer = CountVectorizer(stop_words='english')\n",
    "\n",
    "# stemmer = PorterStemmer()\n",
    "# df_movies['keyword_str'] = df_movies['keywords'].apply(lambda l: ' '.join(x['name'] for x in l) if type(l) is list else l)\n",
    "# word_columns = [\"overview\", \"keyword_str\", \"tagline\"]\n",
    "# stemmed_cols = []\n",
    "# bow_list = []\n",
    "# x_idcs = df_movies.dropna().index\n",
    "# for col in word_columns:\n",
    "#     stemmed_col = df_movies.loc[x_idcs, col].apply(lambda s: ' '.join([stemmer.stem(w) for w in s.split()]) if type(s) is str else np.nan)\n",
    "#     model = MultinomialNB()\n",
    "#     bow = vectorizer.fit_transform(stemmed_col).toarray()\n",
    "#     bow_list.append(bow)\n",
    "# y = df_movies['bechdel_score'].loc[x_idcs]\n",
    "# x_cat = df_movies.loc[x_idcs, onehot_cols].values\n",
    "# x_cont = df_movies.loc[x_idcs, cont_cols].values\n",
    "# subsets = get_subsets(bow_list)\n",
    "# for subset in subsets:\n",
    "#     X = np.concatenate(subset, axis=1)\n",
    "#     cv = do_cv(model, X, y)\n"
   ]
  },
  {
   "cell_type": "code",
   "execution_count": 27,
   "id": "28efb839",
   "metadata": {},
   "outputs": [
    {
     "data": {
      "text/html": [
       "<div>\n",
       "<style scoped>\n",
       "    .dataframe tbody tr th:only-of-type {\n",
       "        vertical-align: middle;\n",
       "    }\n",
       "\n",
       "    .dataframe tbody tr th {\n",
       "        vertical-align: top;\n",
       "    }\n",
       "\n",
       "    .dataframe thead th {\n",
       "        text-align: right;\n",
       "    }\n",
       "</style>\n",
       "<table border=\"1\" class=\"dataframe\">\n",
       "  <thead>\n",
       "    <tr style=\"text-align: right;\">\n",
       "      <th></th>\n",
       "      <th>budget</th>\n",
       "      <th>popularity</th>\n",
       "      <th>revenue</th>\n",
       "      <th>runtime</th>\n",
       "      <th>vote_average</th>\n",
       "      <th>vote_count</th>\n",
       "      <th>rating</th>\n",
       "      <th>genre_names_History</th>\n",
       "      <th>genre_names_Family</th>\n",
       "      <th>genre_names_War</th>\n",
       "      <th>...</th>\n",
       "      <th>vote_count_bin10</th>\n",
       "      <th>rating_bin10</th>\n",
       "      <th>budget_bin2</th>\n",
       "      <th>popularity_bin2</th>\n",
       "      <th>revenue_bin2</th>\n",
       "      <th>runtime_bin2</th>\n",
       "      <th>vote_average_bin2</th>\n",
       "      <th>vote_count_bin2</th>\n",
       "      <th>rating_bin2</th>\n",
       "      <th>bechdel_score</th>\n",
       "    </tr>\n",
       "  </thead>\n",
       "  <tbody>\n",
       "    <tr>\n",
       "      <th>0</th>\n",
       "      <td>30000000.0</td>\n",
       "      <td>21.946943</td>\n",
       "      <td>373554033.0</td>\n",
       "      <td>81.0</td>\n",
       "      <td>7.7</td>\n",
       "      <td>5415.0</td>\n",
       "      <td>3.598930</td>\n",
       "      <td>0</td>\n",
       "      <td>1</td>\n",
       "      <td>0</td>\n",
       "      <td>...</td>\n",
       "      <td>9.0</td>\n",
       "      <td>7.0</td>\n",
       "      <td>1.0</td>\n",
       "      <td>1.0</td>\n",
       "      <td>1.0</td>\n",
       "      <td>0.0</td>\n",
       "      <td>1.0</td>\n",
       "      <td>1.0</td>\n",
       "      <td>1.0</td>\n",
       "      <td>1</td>\n",
       "    </tr>\n",
       "    <tr>\n",
       "      <th>1</th>\n",
       "      <td>65000000.0</td>\n",
       "      <td>17.015539</td>\n",
       "      <td>262797249.0</td>\n",
       "      <td>104.0</td>\n",
       "      <td>6.9</td>\n",
       "      <td>2413.0</td>\n",
       "      <td>3.760163</td>\n",
       "      <td>0</td>\n",
       "      <td>1</td>\n",
       "      <td>0</td>\n",
       "      <td>...</td>\n",
       "      <td>9.0</td>\n",
       "      <td>8.0</td>\n",
       "      <td>1.0</td>\n",
       "      <td>1.0</td>\n",
       "      <td>1.0</td>\n",
       "      <td>0.0</td>\n",
       "      <td>1.0</td>\n",
       "      <td>1.0</td>\n",
       "      <td>1.0</td>\n",
       "      <td>3</td>\n",
       "    </tr>\n",
       "    <tr>\n",
       "      <th>2</th>\n",
       "      <td>60000000.0</td>\n",
       "      <td>17.924927</td>\n",
       "      <td>187436818.0</td>\n",
       "      <td>170.0</td>\n",
       "      <td>7.7</td>\n",
       "      <td>1886.0</td>\n",
       "      <td>3.905544</td>\n",
       "      <td>0</td>\n",
       "      <td>0</td>\n",
       "      <td>0</td>\n",
       "      <td>...</td>\n",
       "      <td>8.0</td>\n",
       "      <td>9.0</td>\n",
       "      <td>1.0</td>\n",
       "      <td>1.0</td>\n",
       "      <td>1.0</td>\n",
       "      <td>1.0</td>\n",
       "      <td>1.0</td>\n",
       "      <td>1.0</td>\n",
       "      <td>1.0</td>\n",
       "      <td>2</td>\n",
       "    </tr>\n",
       "    <tr>\n",
       "      <th>3</th>\n",
       "      <td>58000000.0</td>\n",
       "      <td>14.686036</td>\n",
       "      <td>352194034.0</td>\n",
       "      <td>130.0</td>\n",
       "      <td>6.6</td>\n",
       "      <td>1194.0</td>\n",
       "      <td>2.740334</td>\n",
       "      <td>0</td>\n",
       "      <td>0</td>\n",
       "      <td>0</td>\n",
       "      <td>...</td>\n",
       "      <td>8.0</td>\n",
       "      <td>1.0</td>\n",
       "      <td>1.0</td>\n",
       "      <td>1.0</td>\n",
       "      <td>1.0</td>\n",
       "      <td>1.0</td>\n",
       "      <td>0.0</td>\n",
       "      <td>1.0</td>\n",
       "      <td>0.0</td>\n",
       "      <td>3</td>\n",
       "    </tr>\n",
       "    <tr>\n",
       "      <th>4</th>\n",
       "      <td>98000000.0</td>\n",
       "      <td>7.284477</td>\n",
       "      <td>10017322.0</td>\n",
       "      <td>119.0</td>\n",
       "      <td>5.7</td>\n",
       "      <td>137.0</td>\n",
       "      <td>3.710181</td>\n",
       "      <td>0</td>\n",
       "      <td>0</td>\n",
       "      <td>0</td>\n",
       "      <td>...</td>\n",
       "      <td>3.0</td>\n",
       "      <td>8.0</td>\n",
       "      <td>1.0</td>\n",
       "      <td>0.0</td>\n",
       "      <td>0.0</td>\n",
       "      <td>1.0</td>\n",
       "      <td>0.0</td>\n",
       "      <td>0.0</td>\n",
       "      <td>1.0</td>\n",
       "      <td>1</td>\n",
       "    </tr>\n",
       "  </tbody>\n",
       "</table>\n",
       "<p>5 rows × 191 columns</p>\n",
       "</div>"
      ],
      "text/plain": [
       "       budget  popularity      revenue  runtime  vote_average  vote_count  \\\n",
       "0  30000000.0   21.946943  373554033.0     81.0           7.7      5415.0   \n",
       "1  65000000.0   17.015539  262797249.0    104.0           6.9      2413.0   \n",
       "2  60000000.0   17.924927  187436818.0    170.0           7.7      1886.0   \n",
       "3  58000000.0   14.686036  352194034.0    130.0           6.6      1194.0   \n",
       "4  98000000.0    7.284477   10017322.0    119.0           5.7       137.0   \n",
       "\n",
       "     rating  genre_names_History  genre_names_Family  genre_names_War  ...  \\\n",
       "0  3.598930                    0                   1                0  ...   \n",
       "1  3.760163                    0                   1                0  ...   \n",
       "2  3.905544                    0                   0                0  ...   \n",
       "3  2.740334                    0                   0                0  ...   \n",
       "4  3.710181                    0                   0                0  ...   \n",
       "\n",
       "   vote_count_bin10  rating_bin10  budget_bin2  popularity_bin2  revenue_bin2  \\\n",
       "0               9.0           7.0          1.0              1.0           1.0   \n",
       "1               9.0           8.0          1.0              1.0           1.0   \n",
       "2               8.0           9.0          1.0              1.0           1.0   \n",
       "3               8.0           1.0          1.0              1.0           1.0   \n",
       "4               3.0           8.0          1.0              0.0           0.0   \n",
       "\n",
       "   runtime_bin2  vote_average_bin2  vote_count_bin2  rating_bin2  \\\n",
       "0           0.0                1.0              1.0          1.0   \n",
       "1           0.0                1.0              1.0          1.0   \n",
       "2           1.0                1.0              1.0          1.0   \n",
       "3           1.0                0.0              1.0          0.0   \n",
       "4           1.0                0.0              0.0          1.0   \n",
       "\n",
       "   bechdel_score  \n",
       "0              1  \n",
       "1              3  \n",
       "2              2  \n",
       "3              3  \n",
       "4              1  \n",
       "\n",
       "[5 rows x 191 columns]"
      ]
     },
     "execution_count": 27,
     "metadata": {},
     "output_type": "execute_result"
    }
   ],
   "source": [
    "df_train = df_movies[cont_cols+onehot_cols+cat_cols+bin10_cols+bin2_cols+['bechdel_score']]\n",
    "df_train.head()"
   ]
  },
  {
   "cell_type": "markdown",
   "id": "bb0941d6",
   "metadata": {},
   "source": [
    "## Resample data"
   ]
  },
  {
   "cell_type": "code",
   "execution_count": 28,
   "id": "8d2711b2",
   "metadata": {},
   "outputs": [
    {
     "data": {
      "text/plain": [
       "bechdel_score\n",
       "3    1073\n",
       "1     553\n",
       "2     274\n",
       "0     267\n",
       "Name: count, dtype: int64"
      ]
     },
     "execution_count": 28,
     "metadata": {},
     "output_type": "execute_result"
    }
   ],
   "source": [
    "df_train['bechdel_score'].value_counts()"
   ]
  },
  {
   "cell_type": "code",
   "execution_count": 29,
   "id": "99168380",
   "metadata": {},
   "outputs": [
    {
     "data": {
      "text/plain": [
       "((4292, 191),\n",
       " bechdel_score\n",
       " 0    1073\n",
       " 1    1073\n",
       " 2    1073\n",
       " 3    1073\n",
       " Name: count, dtype: int64)"
      ]
     },
     "execution_count": 29,
     "metadata": {},
     "output_type": "execute_result"
    }
   ],
   "source": [
    "from sklearn.utils import resample\n",
    "resample_n = sum(df_train['bechdel_score']==3)\n",
    "resampled_X = []\n",
    "for score in range(4):\n",
    "    score_mask = df_train['bechdel_score'] == score\n",
    "    score_resampled = resample(df_train[score_mask], n_samples=resample_n)\n",
    "    resampled_X.append(score_resampled)\n",
    "df_resampled = pd.concat(resampled_X)\n",
    "df_resampled.shape, df_resampled['bechdel_score'].value_counts()"
   ]
  },
  {
   "cell_type": "markdown",
   "id": "2af6d5ec-b360-4ba0-afe8-256ccab1337f",
   "metadata": {},
   "source": [
    "## Normalize dataset"
   ]
  },
  {
   "cell_type": "code",
   "execution_count": 30,
   "id": "3ed52a5c-307c-49f4-9ea9-df18ab749fe0",
   "metadata": {},
   "outputs": [],
   "source": [
    "# data = df_train.values\n",
    "data = df_resampled\n",
    "\n",
    "# Shuffle data, you may change seed\n",
    "data = data.sample(frac=1, random_state=42)\n",
    "\n",
    "# split features and label\n",
    "X = data.drop('bechdel_score', axis=1)\n",
    "y = data['bechdel_score']\n",
    "\n",
    "# Change data type\n",
    "# x_cont = x_cont.astype(np.float32)\n",
    "y = y.astype(np.int32) # We use float in regression and int in classification\n",
    "X[cont_cols]=X[cont_cols].astype(np.float32)\n",
    "X[cat_cols]=X[cat_cols].astype(np.int32)\n",
    "X[onehot_cols]=X[onehot_cols].astype(np.int32)\n",
    "X[bin10_cols]=X[bin10_cols].astype(np.int32)\n",
    "X[bin2_cols]=X[bin2_cols].astype(np.int32)"
   ]
  },
  {
   "cell_type": "markdown",
   "id": "3ef0ec70",
   "metadata": {},
   "source": [
    "Z-score continuous features"
   ]
  },
  {
   "cell_type": "code",
   "execution_count": 31,
   "id": "47409196",
   "metadata": {},
   "outputs": [],
   "source": [
    "train_mean, train_std = np.mean(X[cont_cols], axis=0), np.std(X[cont_cols], axis=0)\n",
    "X[cont_cols] = (X[cont_cols] - train_mean) / train_std"
   ]
  },
  {
   "cell_type": "markdown",
   "id": "2d1949ec",
   "metadata": {},
   "source": [
    "Commenting this out so we can do $k$-fold cross validation instead of train/test validation"
   ]
  },
  {
   "cell_type": "code",
   "execution_count": 32,
   "id": "5022b143-0cad-452d-96dd-b84044c7a9a6",
   "metadata": {},
   "outputs": [],
   "source": [
    "# # split train dataset and test dataset, you may change the ratio\n",
    "# train_ratio = 0.9\n",
    "# threshold = int(train_ratio * len(y))\n",
    "# x_cont_train = x_cont[:threshold, :]\n",
    "# x_cont_test = x_cont[threshold:, :]\n",
    "\n",
    "# x_cat_train = x_cat[:threshold, :]\n",
    "# x_cat_test = x_cat[threshold:, :]\n",
    "\n",
    "# y_train = y[:threshold]\n",
    "# y_test = y[threshold:]\n",
    "\n",
    "# # Feature scaling with Z-score\n",
    "# train_mean, train_std = np.mean(x_cont_train, axis=0), np.std(x_cont_train, axis=0)\n",
    "# x_cont_train = (x_cont_train - train_mean) / train_std\n",
    "# x_cont_test  = (x_cont_test  - train_mean) / train_std"
   ]
  },
  {
   "cell_type": "markdown",
   "id": "a5e18ce8-05e5-458d-bf2d-d3a3de00826e",
   "metadata": {},
   "source": [
    "Then you can go training model with (x_train, y_train), and test model with (x_test, y_test)"
   ]
  },
  {
   "cell_type": "markdown",
   "id": "c8d4880f-01bd-4671-b631-b4adf038b985",
   "metadata": {},
   "source": [
    "## Train models\n",
    "Sticking to Guassian Naive Bayes and Bernouilli Naive Bayes"
   ]
  },
  {
   "cell_type": "code",
   "execution_count": 93,
   "id": "63b3bcce",
   "metadata": {},
   "outputs": [],
   "source": [
    "from sklearn.naive_bayes import GaussianNB, BernoulliNB, CategoricalNB\n",
    "from sklearn.model_selection import cross_validate\n",
    "from sklearn.metrics import mean_squared_error, f1_score\n",
    "\n",
    "def do_cv(model, X, y, exp_name=''):\n",
    "    cv = cross_validate(estimator=model, X=X, y=y, scoring=['f1_macro', 'accuracy'], cv=10)\n",
    "    cv_acc = cv['test_accuracy'].mean()\n",
    "    cv_acc_std = cv['test_accuracy'].std()\n",
    "    cv_f1 = cv['test_f1_macro'].mean()\n",
    "    cv_f1_std = cv['test_f1_macro'].std()\n",
    "    model_name = model.__str__().split('(')[0]\n",
    "    print(f\"{exp_name}\\t{model_name}\\n{cv_acc=:.2f}\\t{cv_acc_std=:.2f}\\t{cv_f1=:.2f}\\t{cv_f1_std=:.2f}\")\n",
    "    return {\n",
    "        \"mean_acc\": cv_acc,\n",
    "        \"acc_std\": cv_acc_std,\n",
    "        \"mean_f1\": cv_f1,\n",
    "        \"f1_std\": cv_f1_std,\n",
    "        \"exp_name\": exp_name\n",
    "    }"
   ]
  },
  {
   "cell_type": "code",
   "execution_count": 94,
   "id": "eee5a0a3-ef75-4388-aed2-e5a2721c39ea",
   "metadata": {},
   "outputs": [
    {
     "name": "stdout",
     "output_type": "stream",
     "text": [
      "Naive: acc=0.25 f1=0.10\n",
      "Continuous features\tGaussianNB\n",
      "cv_acc=0.27\tcv_acc_std=0.02\tcv_f1=0.20\tcv_f1_std=0.02\n",
      "Binned continuous features\tBernoulliNB\n",
      "cv_acc=0.31\tcv_acc_std=0.02\tcv_f1=0.28\tcv_f1_std=0.03\n",
      "Multi-hot features\tBernoulliNB\n",
      "cv_acc=0.41\tcv_acc_std=0.02\tcv_f1=0.41\tcv_f1_std=0.02\n",
      "Multi-hot + binned features\tBernoulliNB\n",
      "cv_acc=0.41\tcv_acc_std=0.01\tcv_f1=0.41\tcv_f1_std=0.01\n",
      "Production country\tBernoulliNB\n",
      "cv_acc=0.32\tcv_acc_std=0.02\tcv_f1=0.28\tcv_f1_std=0.02\n",
      "Languages spoken\tBernoulliNB\n",
      "cv_acc=0.31\tcv_acc_std=0.02\tcv_f1=0.28\tcv_f1_std=0.03\n",
      "Genre features\n",
      "Movie genres\tBernoulliNB\n",
      "cv_acc=0.37\tcv_acc_std=0.03\tcv_f1=0.35\tcv_f1_std=0.03\n"
     ]
    },
    {
     "data": {
      "text/html": [
       "<div>\n",
       "<style scoped>\n",
       "    .dataframe tbody tr th:only-of-type {\n",
       "        vertical-align: middle;\n",
       "    }\n",
       "\n",
       "    .dataframe tbody tr th {\n",
       "        vertical-align: top;\n",
       "    }\n",
       "\n",
       "    .dataframe thead th {\n",
       "        text-align: right;\n",
       "    }\n",
       "</style>\n",
       "<table border=\"1\" class=\"dataframe\">\n",
       "  <thead>\n",
       "    <tr style=\"text-align: right;\">\n",
       "      <th></th>\n",
       "      <th>mean_acc</th>\n",
       "      <th>mean_f1</th>\n",
       "      <th>model_name</th>\n",
       "      <th>exp_name</th>\n",
       "      <th>acc_std</th>\n",
       "      <th>f1_std</th>\n",
       "    </tr>\n",
       "  </thead>\n",
       "  <tbody>\n",
       "    <tr>\n",
       "      <th>0</th>\n",
       "      <td>0.250000</td>\n",
       "      <td>0.100000</td>\n",
       "      <td>Baseline</td>\n",
       "      <td>Baseline</td>\n",
       "      <td>NaN</td>\n",
       "      <td>NaN</td>\n",
       "    </tr>\n",
       "    <tr>\n",
       "      <th>1</th>\n",
       "      <td>0.274000</td>\n",
       "      <td>0.202403</td>\n",
       "      <td>NaN</td>\n",
       "      <td>Continuous features</td>\n",
       "      <td>0.017413</td>\n",
       "      <td>0.018571</td>\n",
       "    </tr>\n",
       "    <tr>\n",
       "      <th>2</th>\n",
       "      <td>0.312443</td>\n",
       "      <td>0.280558</td>\n",
       "      <td>NaN</td>\n",
       "      <td>Binned continuous features</td>\n",
       "      <td>0.021964</td>\n",
       "      <td>0.025865</td>\n",
       "    </tr>\n",
       "    <tr>\n",
       "      <th>3</th>\n",
       "      <td>0.413796</td>\n",
       "      <td>0.413036</td>\n",
       "      <td>NaN</td>\n",
       "      <td>Multi-hot features</td>\n",
       "      <td>0.019202</td>\n",
       "      <td>0.018763</td>\n",
       "    </tr>\n",
       "    <tr>\n",
       "      <th>4</th>\n",
       "      <td>0.413560</td>\n",
       "      <td>0.411932</td>\n",
       "      <td>NaN</td>\n",
       "      <td>Multi-hot + binned features</td>\n",
       "      <td>0.014330</td>\n",
       "      <td>0.014881</td>\n",
       "    </tr>\n",
       "  </tbody>\n",
       "</table>\n",
       "</div>"
      ],
      "text/plain": [
       "   mean_acc   mean_f1 model_name                     exp_name   acc_std  \\\n",
       "0  0.250000  0.100000   Baseline                     Baseline       NaN   \n",
       "1  0.274000  0.202403        NaN          Continuous features  0.017413   \n",
       "2  0.312443  0.280558        NaN   Binned continuous features  0.021964   \n",
       "3  0.413796  0.413036        NaN           Multi-hot features  0.019202   \n",
       "4  0.413560  0.411932        NaN  Multi-hot + binned features  0.014330   \n",
       "\n",
       "     f1_std  \n",
       "0       NaN  \n",
       "1  0.018571  \n",
       "2  0.025865  \n",
       "3  0.018763  \n",
       "4  0.014881  "
      ]
     },
     "execution_count": 94,
     "metadata": {},
     "output_type": "execute_result"
    }
   ],
   "source": [
    "rows = []\n",
    "\n",
    "y_naive = np.full_like(y, fill_value=3)\n",
    "# loss = mean_squared_error(y, y_naive)\n",
    "acc = np.mean(y_naive[:] == y[:])\n",
    "f1 = f1_score(y, y_naive, average='macro')\n",
    "print(f\"Naive: {acc=:.2f} {f1=:.2f}\")\n",
    "rows.append({\n",
    "    \"mean_acc\": acc,\n",
    "    \"mean_f1\": f1,\n",
    "    \"model_name\": \"Baseline\",\n",
    "    \"exp_name\": \"Baseline\",\n",
    "})\n",
    "\n",
    "\n",
    "model = GaussianNB()\n",
    "rows.append(do_cv(model, X[cont_cols], y, 'Continuous features'))\n",
    "\n",
    "# for feature in cont_cols:\n",
    "#     print(feature)\n",
    "#     do_cv(model, X[feature].to_numpy()[:, np.newaxis], y)\n",
    "\n",
    "# print(\"Bin-10 features\")\n",
    "# model = GaussianNB()\n",
    "# do_cv(model, X[bin10_cols], y)\n",
    "\n",
    "model = BernoulliNB()\n",
    "rows.append(do_cv(model, X[bin2_cols], y, \"Binned continuous features\"))\n",
    "\n",
    "model = BernoulliNB()\n",
    "rows.append(do_cv(model, X[onehot_cols], y, \"Multi-hot features\"))\n",
    "\n",
    "model = BernoulliNB()\n",
    "rows.append(do_cv(model, X[onehot_cols+bin2_cols], y, \"Multi-hot + binned features\"))\n",
    "\n",
    "model = BernoulliNB()\n",
    "rows.append(do_cv(model, X[cntry_cols], y, \"Production country\"))\n",
    "\n",
    "model = BernoulliNB()\n",
    "rows.append(do_cv(model, X[lang_cols], y, \"Languages spoken\"))\n",
    "\n",
    "print(\"Genre features\")\n",
    "model = BernoulliNB()\n",
    "rows.append(do_cv(model, X[genre_cols], y, \"Movie genres\"))\n",
    "\n",
    "# print(\"Categorical features\")\n",
    "# do_cv(model, X[cat_cols], y)\n",
    "\n",
    "# print(\"Categorical+bin10 features\")\n",
    "# do_cv(model, X[cat_cols+bin10_cols], y)\n",
    "\n",
    "# print(\"All features\")\n",
    "# model = GaussianNB()\n",
    "# do_cv(model, X, y)\n",
    "\n",
    "# model = BernoulliNB()\n",
    "# do_cv(model, X, y)\n",
    "\n",
    "results = pd.DataFrame(rows)\n",
    "results.head()"
   ]
  },
  {
   "cell_type": "code",
   "execution_count": 125,
   "id": "92a7e7bf",
   "metadata": {},
   "outputs": [
    {
     "data": {
      "image/png": "[encoded data removed]",
      "text/plain": [
       "<Figure size 432x288 with 1 Axes>"
      ]
     },
     "metadata": {
      "needs_background": "light"
     },
     "output_type": "display_data"
    }
   ],
   "source": [
    "results_vals = results.melt(id_vars=[\"exp_name\", \"model_name\"], value_vars=[\"mean_acc\", \"mean_f1\"], value_name='value')\n",
    "results_std = results.melt(id_vars=[\"exp_name\", \"model_name\"], value_vars=[\"acc_std\", \"f1_std\"], value_name='std')\n",
    "\n",
    "for df in results_vals, results_std:\n",
    "    df['metric']='acc'\n",
    "    df.loc[df['variable'].str.contains('f1'), 'metric']='f1'\n",
    "    df.set_index([\"exp_name\", \"model_name\", \"metric\"], inplace=True)\n",
    "    df.drop(\"variable\", inplace=True, axis=1)\n",
    "# results_std\n",
    "results_long = results_vals.join(results_std)\n",
    "g=sns.scatterplot(results_long, x=\"exp_name\", y=\"value\", hue=\"metric\", style=\"metric\")\n",
    "# g.set_xlim(0,1)\n",
    "g.tick_params(axis='x', rotation=45)\n",
    "g.set_ylim(0,1)\n",
    "g.set_ylabel(\"Percent\")\n",
    "g.set_xlabel(\"Experiment\")\n",
    "plt.show()"
   ]
  },
  {
   "cell_type": "code",
   "execution_count": 196,
   "id": "301d2001",
   "metadata": {},
   "outputs": [],
   "source": [
    "def get_corridcs(m: np.ndarray):\n",
    "    m[np.isnan(m)]=0\n",
    "    row_indices = np.arange(len(m))\n",
    "    num_cols = m.shape[1]\n",
    "    corrvals = np.empty(num_cols)\n",
    "    for j in range(num_cols):\n",
    "        corr, _ = pearsonr(m[:,j], row_indices)\n",
    "        if np.isnan(corr):\n",
    "            corr=0\n",
    "        corrvals[j]=corr\n",
    "    corridcs = np.argsort(corrvals)\n",
    "    return corridcs"
   ]
  },
  {
   "cell_type": "code",
   "execution_count": 197,
   "id": "66240e0e",
   "metadata": {},
   "outputs": [
    {
     "data": {
      "image/png": "[encoded data removed]",
      "text/plain": [
       "<Figure size 1440x360 with 2 Axes>"
      ]
     },
     "metadata": {
      "needs_background": "light"
     },
     "output_type": "display_data"
    }
   ],
   "source": [
    "plt.figure(figsize=(20,5))\n",
    "\n",
    "model = BernoulliNB()\n",
    "genre_cols_heatmap = sorted(genre_cols)\n",
    "model.fit(X[genre_cols_heatmap], y)\n",
    "col_labels = [unidecode(x.split('_')[-1]) for x in genre_cols_heatmap]\n",
    "col_labels = np.array(col_labels)\n",
    "genre_probs = model.feature_log_prob_\n",
    "genre_probs = softmax(genre_probs, axis=0)\n",
    "sort_idcs = get_corridcs(genre_probs)\n",
    "g=sns.heatmap(genre_probs[:, sort_idcs], xticklabels=col_labels[sort_idcs], cmap='coolwarm', center=0.25)\n",
    "g.set_xticklabels(col_labels[sort_idcs], rotation=45)\n",
    "plt.show()"
   ]
  },
  {
   "cell_type": "code",
   "execution_count": 36,
   "id": "e63c3987",
   "metadata": {},
   "outputs": [
    {
     "data": {
      "text/plain": [
       "((4292, 20), 20)"
      ]
     },
     "execution_count": 36,
     "metadata": {},
     "output_type": "execute_result"
    }
   ],
   "source": [
    "X[genre_cols_heatmap].shape, len(genre_cols_heatmap)"
   ]
  },
  {
   "cell_type": "code",
   "execution_count": 198,
   "id": "ed39c08f",
   "metadata": {},
   "outputs": [
    {
     "name": "stderr",
     "output_type": "stream",
     "text": [
      "/usr/local/lib/python3.9/site-packages/scipy/stats/_stats_py.py:4781: ConstantInputWarning: An input array is constant; the correlation coefficient is not defined.\n",
      "  warnings.warn(stats.ConstantInputWarning(msg))\n"
     ]
    },
    {
     "data": {
      "image/png": "[encoded data removed]",
      "text/plain": [
       "<Figure size 2880x360 with 2 Axes>"
      ]
     },
     "metadata": {
      "needs_background": "light"
     },
     "output_type": "display_data"
    }
   ],
   "source": [
    "plt.figure(figsize=(40,5))\n",
    "\n",
    "model = BernoulliNB()\n",
    "cntry_cols_heatmap = sorted(cntry_cols)\n",
    "model.fit(X[cntry_cols_heatmap], y)\n",
    "col_labels = [unidecode(x.split('_')[-1]) for x in cntry_cols_heatmap]\n",
    "abbreviated_cntries = {\n",
    "    'United States of America': 'USA',\n",
    "    'Bosnia and Herzegovina': 'Bsn/Hrzna',\n",
    "    'Palestinian Territory': 'Palestine',\n",
    "    'French Polynesia': 'Fr Polynesia',\n",
    "    'Netherlands Antilles': 'Nth Antilles',\n",
    "    'United Kingdom': 'UK',\n",
    "}\n",
    "col_labels = [abbreviated_cntries.get(x, x) for x in col_labels]\n",
    "col_labels = np.array(col_labels)\n",
    "cntry_probs = model.feature_log_prob_\n",
    "cntry_probs = softmax(cntry_probs, axis=0)\n",
    "sort_idcs = get_corridcs(cntry_probs)\n",
    "g=sns.heatmap(cntry_probs[:,sort_idcs], xticklabels=col_labels[sort_idcs], cmap='coolwarm', center=0.25)\n",
    "g.set_ylabel('Bechdel score')\n",
    "g.set_xticklabels(col_labels[sort_idcs], rotation=45)\n",
    "plt.show()"
   ]
  },
  {
   "cell_type": "code",
   "execution_count": 199,
   "id": "eda5ffb7",
   "metadata": {},
   "outputs": [
    {
     "name": "stderr",
     "output_type": "stream",
     "text": [
      "/usr/local/lib/python3.9/site-packages/scipy/stats/_stats_py.py:4781: ConstantInputWarning: An input array is constant; the correlation coefficient is not defined.\n",
      "  warnings.warn(stats.ConstantInputWarning(msg))\n"
     ]
    },
    {
     "data": {
      "image/png": "[encoded data removed]",
      "text/plain": [
       "<Figure size 2880x360 with 2 Axes>"
      ]
     },
     "metadata": {
      "needs_background": "light"
     },
     "output_type": "display_data"
    }
   ],
   "source": [
    "plt.figure(figsize=(40,5))\n",
    "\n",
    "import pycountry\n",
    "def get_langname(iso):\n",
    "    lang = pycountry.languages.get(alpha_2=iso)\n",
    "    if lang:\n",
    "        return lang.name\n",
    "    if lang=='cn':\n",
    "        return 'Chinese'\n",
    "    return 'N/A'\n",
    "\n",
    "\n",
    "model = BernoulliNB()\n",
    "lang_cols_heatmap = sorted(lang_cols)\n",
    "model.fit(X[lang_cols_heatmap], y)\n",
    "col_labels = [unidecode(x.split('_')[-1]) for x in lang_cols_heatmap]\n",
    "col_labels = [get_langname(x) for x in col_labels]\n",
    "abbreviated_langs = {\n",
    "    'Modern Greek (1453-)': 'Modern Greek',\n",
    "    'Nepali (macrolanguage)': 'Nepali',\n",
    "    'Swahili (macrolanguage)': 'Swahili',\n",
    "}\n",
    "col_labels = [abbreviated_langs.get(x, x) for x in col_labels]\n",
    "col_labels = np.array(col_labels)\n",
    "lang_probs = model.feature_log_prob_\n",
    "lang_probs = softmax(lang_probs, axis=0)\n",
    "sort_idcs = get_corridcs(lang_probs)\n",
    "g=sns.heatmap(lang_probs[:,sort_idcs], xticklabels=col_labels[sort_idcs], cmap='coolwarm', center=0.25)\n",
    "g.set_ylabel('Bechdel score')\n",
    "g.set_xticklabels(col_labels[sort_idcs], rotation=45)\n",
    "plt.show()"
   ]
  },
  {
   "cell_type": "code",
   "execution_count": 201,
   "id": "f105d402",
   "metadata": {},
   "outputs": [
    {
     "data": {
      "image/png": "[encoded data removed]",
      "text/plain": [
       "<Figure size 432x288 with 2 Axes>"
      ]
     },
     "metadata": {
      "needs_background": "light"
     },
     "output_type": "display_data"
    }
   ],
   "source": [
    "model = GaussianNB()\n",
    "model.fit(X[cont_cols], y)\n",
    "feat_probs=model.theta_\n",
    "# feat_probs=softmax(feat_probs, axis=0)\n",
    "sort_idcs = get_corridcs(feat_probs)\n",
    "col_labels=np.array(cont_cols)\n",
    "sns.heatmap(feat_probs[:,sort_idcs], xticklabels=col_labels[sort_idcs], cmap='coolwarm')\n",
    "plt.show()"
   ]
  },
  {
   "cell_type": "code",
   "execution_count": 126,
   "id": "06f3d78e",
   "metadata": {},
   "outputs": [
    {
     "data": {
      "image/png": "[encoded data removed]",
      "text/plain": [
       "<Figure size 432x288 with 2 Axes>"
      ]
     },
     "metadata": {
      "needs_background": "light"
     },
     "output_type": "display_data"
    }
   ],
   "source": [
    "model = GaussianNB()\n",
    "model.fit(X[bin2_cols], y)\n",
    "feat_probs=model.theta_\n",
    "# feat_probs=softmax(feat_probs, axis=0)\n",
    "sns.heatmap(feat_probs, xticklabels=cont_cols, cmap='coolwarm')\n",
    "plt.show()"
   ]
  }
 ],
 "metadata": {
  "kernelspec": {
   "display_name": "Python 3",
   "language": "python",
   "name": "python3"
  },
  "language_info": {
   "codemirror_mode": {
    "name": "ipython",
    "version": 3
   },
   "file_extension": ".py",
   "mimetype": "text/x-python",
   "name": "python",
   "nbconvert_exporter": "python",
   "pygments_lexer": "ipython3",
   "version": "3.9.22"
  }
 },
 "nbformat": 4,
 "nbformat_minor": 5
}
